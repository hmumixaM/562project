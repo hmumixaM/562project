{
  "nbformat": 4,
  "nbformat_minor": 0,
  "metadata": {
    "kernelspec": {
      "display_name": "Python 3",
      "language": "python",
      "name": "python3"
    },
    "language_info": {
      "codemirror_mode": {
        "name": "ipython",
        "version": 3
      },
      "file_extension": ".py",
      "mimetype": "text/x-python",
      "name": "python",
      "nbconvert_exporter": "python",
      "pygments_lexer": "ipython3",
      "version": "3.7.1"
    },
    "colab": {
      "name": "1_one-pixel-attack-cifar10.ipynb",
      "provenance": []
    }
  },
  "cells": [
    {
      "cell_type": "markdown",
      "metadata": {
        "id": "l8EhDT1RaekX"
      },
      "source": [
        "# One Pixel Attack"
      ]
    },
    {
      "cell_type": "markdown",
      "metadata": {
        "id": "9nsgR7h0aekf"
      },
      "source": [
        "## Imports"
      ]
    },
    {
      "cell_type": "code",
      "metadata": {
        "id": "8YQiTScdaekg",
        "outputId": "b13d108c-b2b6-4dfe-d96f-154682b5b8c1"
      },
      "source": [
        "import google.colab\n",
        "\n",
        "!git clone https://github.com/Hyperparticle/one-pixel-attack-keras.git\n",
        "!mv -v one-pixel-attack-keras/* .\n",
        "!rm -rf one-pixel-attack-keras\n",
        "\n",
        "%matplotlib inline\n",
        "import pickle\n",
        "import numpy as np\n",
        "import pandas as pd\n",
        "import matplotlib\n",
        "from keras.datasets import cifar10\n",
        "from keras import backend as K\n",
        "\n",
        "# Helper functions\n",
        "from differential_evolution import differential_evolution\n",
        "import helper\n",
        "\n",
        "matplotlib.style.use('ggplot')\n",
        "np.random.seed(100)"
      ],
      "execution_count": null,
      "outputs": [
        {
          "output_type": "stream",
          "text": [
            "/home/hyper/Documents/anaconda3/lib/python3.6/site-packages/h5py/__init__.py:34: FutureWarning: Conversion of the second argument of issubdtype from `float` to `np.floating` is deprecated. In future, it will be treated as `np.float64 == np.dtype(float).type`.\n",
            "  from ._conv import register_converters as _register_converters\n",
            "Using TensorFlow backend.\n"
          ],
          "name": "stderr"
        }
      ]
    },
    {
      "cell_type": "markdown",
      "metadata": {
        "id": "Mp29SdObaekh"
      },
      "source": [
        "## Load Dataset"
      ]
    },
    {
      "cell_type": "code",
      "metadata": {
        "id": "f9BDwaDwaeki"
      },
      "source": [
        "import zipfile\n",
        "import os\n",
        "\n",
        "if not (os.path.exists(\"/content/with_mask\") and os.path.exists(\"/content/without_mask\")):\n",
        "  from google.colab import drive\n",
        "  drive.mount('/content/gdrive')\n",
        "\n",
        "  !unzip /content/gdrive/MyDrive/with_mask.zip\n",
        "  !unzip /content/gdrive/MyDrive/without_mask.zip\n",
        "else:\n",
        "  print(\"Dataset cached already!\")"
      ],
      "execution_count": null,
      "outputs": []
    },
    {
      "cell_type": "code",
      "metadata": {
        "id": "QTyKdhWHaeki"
      },
      "source": [
        "train_array = []\n",
        "test_array = []\n",
        "for i in range(0,219):\n",
        "  is_test = random.randint(0,1)\n",
        "  if is_test == 1 and len(test_array) < 19:\n",
        "    test_array.append(i)\n",
        "  else:\n",
        "    train_array.append(i)\n",
        "\n",
        "class_names = ['without_mask', 'with_mask']"
      ],
      "execution_count": null,
      "outputs": []
    },
    {
      "cell_type": "code",
      "metadata": {
        "id": "uxR634Ifaekj"
      },
      "source": [
        "image_id = 99 # Image index in the test set\n",
        "helper.plot_image(x_test[image_id])"
      ],
      "execution_count": null,
      "outputs": []
    },
    {
      "cell_type": "markdown",
      "metadata": {
        "id": "zyCmTEu_aekj"
      },
      "source": [
        "## Image Perturbation"
      ]
    },
    {
      "cell_type": "markdown",
      "metadata": {
        "id": "LvkPOReDaekj"
      },
      "source": [
        "To begin, we need a function to modify one or more pixels in an image. \n",
        "\n",
        "We can define the perturbation of a pixel as a 5-tuple \n",
        "\n",
        "$$\\textbf{x} = (x, y, r, g, b)$$\n",
        "\n",
        "where $x, y$ are the coordinates of the pixel from 0 to 31, and $r,g,b$ are the red, green, and blue values from 0 to 255. Then multiple perturbations can simply be a concatenation of these tuples:\n",
        "\n",
        "$$X = (x_1, y_1, r_1, g_1, b_1, x_2, y_2, r_2, g_2, b_2, ...)$$\n",
        "\n",
        "We could instead use an array of tuples, but the optimization algorithm we will use requires it to be a flat 1-d vector.\n",
        "\n",
        "Then the function to perturb an image can take as an input the image and $X$, and output a copy of the image with each pixel at $x_i, y_i$ modified to have the color $r_i, g_i, b_i$. To speed up computation, we will batch together an array of $X$ perturbations, denoted $X_S$."
      ]
    },
    {
      "cell_type": "code",
      "metadata": {
        "id": "90TC9W5jaekj"
      },
      "source": [
        "def perturb_image(xs, img):\n",
        "    # If this function is passed just one perturbation vector,\n",
        "    # pack it in a list to keep the computation the same\n",
        "    if xs.ndim < 2:\n",
        "        xs = np.array([xs])\n",
        "    \n",
        "    # Copy the image n == len(xs) times so that we can \n",
        "    # create n new perturbed images\n",
        "    tile = [len(xs)] + [1]*(xs.ndim+1)\n",
        "    imgs = np.tile(img, tile)\n",
        "    \n",
        "    # Make sure to floor the members of xs as int types\n",
        "    xs = xs.astype(int)\n",
        "    \n",
        "    for x,img in zip(xs, imgs):\n",
        "        # Split x into an array of 5-tuples (perturbation pixels)\n",
        "        # i.e., [[x,y,r,g,b], ...]\n",
        "        pixels = np.split(x, len(x) // 5)\n",
        "        for pixel in pixels:\n",
        "            # At each pixel's x,y position, assign its rgb value\n",
        "            x_pos, y_pos, *rgb = pixel\n",
        "            img[x_pos, y_pos] = rgb\n",
        "    \n",
        "    return imgs"
      ],
      "execution_count": null,
      "outputs": []
    },
    {
      "cell_type": "code",
      "metadata": {
        "id": "y63yP8Deaekk"
      },
      "source": [
        "image_id = 99 # Image index in the test set\n",
        "pixel = np.array([16, 16, 255, 255, 0]) # pixel = x,y,r,g,b\n",
        "image_perturbed = perturb_image(pixel, x_test[image_id])[0]\n",
        "\n",
        "helper.plot_image(image_perturbed)"
      ],
      "execution_count": null,
      "outputs": []
    },
    {
      "cell_type": "markdown",
      "metadata": {
        "id": "Ieqf2Ybiaekk"
      },
      "source": [
        "## Load Models"
      ]
    },
    {
      "cell_type": "code",
      "metadata": {
        "id": "nS_xHg87aekl"
      },
      "source": [
        "resnet = ResNet()\n",
        "\n",
        "models = [lenet, resnet]"
      ],
      "execution_count": null,
      "outputs": []
    },
    {
      "cell_type": "markdown",
      "metadata": {
        "id": "BK9ZRhb5aekm"
      },
      "source": [
        "Note that there are even more networks available in the `networks` directory, but must be trained before loading them here."
      ]
    },
    {
      "cell_type": "markdown",
      "metadata": {
        "id": "nC6blogKaekn"
      },
      "source": [
        "### Prediction Function"
      ]
    },
    {
      "cell_type": "code",
      "metadata": {
        "id": "f9WvIFbXaekn"
      },
      "source": [
        "def predict_classes(xs, img, target_class, model, minimize=True):\n",
        "    # Perturb the image with the given pixel(s) x and get the prediction of the model\n",
        "    imgs_perturbed = perturb_image(xs, img)\n",
        "    predictions = model.predict(imgs_perturbed)[:,target_class]\n",
        "    # This function should always be minimized, so return its complement if needed\n",
        "    return predictions if minimize else 1 - predictions"
      ],
      "execution_count": null,
      "outputs": []
    },
    {
      "cell_type": "code",
      "metadata": {
        "scrolled": true,
        "id": "kIYov_ifaekn"
      },
      "source": [
        "image_id = 384\n",
        "pixel = np.array([16, 13,  25, 48, 156])\n",
        "model = resnet\n",
        "\n",
        "true_class = y_test[image_id, 0]\n",
        "prior_confidence = model.predict_one(x_test[image_id])[true_class]\n",
        "confidence = predict_classes(pixel, x_test[image_id], true_class, model)[0]\n",
        "\n",
        "print('Confidence in true class', class_names[true_class], 'is', confidence)\n",
        "print('Prior confidence was', prior_confidence)\n",
        "helper.plot_image(perturb_image(pixel, x_test[image_id])[0])"
      ],
      "execution_count": null,
      "outputs": []
    },
    {
      "cell_type": "markdown",
      "metadata": {
        "id": "PLxrxE9Saeko"
      },
      "source": [
        "## The Attack"
      ]
    },
    {
      "cell_type": "markdown",
      "metadata": {
        "id": "UOcZOzDEaekp"
      },
      "source": [
        "### Success Criterion"
      ]
    },
    {
      "cell_type": "code",
      "metadata": {
        "id": "p2oDuOnIaekp"
      },
      "source": [
        "def attack_success(x, img, target_class, model, targeted_attack=False, verbose=False):\n",
        "    # Perturb the image with the given pixel(s) and get the prediction of the model\n",
        "    attack_image = perturb_image(x, img)\n",
        "\n",
        "    confidence = model.predict(attack_image)[0]\n",
        "    predicted_class = np.argmax(confidence)\n",
        "    \n",
        "    # If the prediction is what we want (misclassification or \n",
        "    # targeted classification), return True\n",
        "    if verbose:\n",
        "        print('Confidence:', confidence[target_class])\n",
        "    if ((targeted_attack and predicted_class == target_class) or\n",
        "        (not targeted_attack and predicted_class != target_class)):\n",
        "        return True\n",
        "    # NOTE: return None otherwise (not False), due to how Scipy handles its callback function"
      ],
      "execution_count": null,
      "outputs": []
    },
    {
      "cell_type": "code",
      "metadata": {
        "id": "S4UM-TeZaekp"
      },
      "source": [
        "image_id = 541\n",
        "pixel = np.array([17, 18, 185, 36, 215])\n",
        "model = resnet\n",
        "\n",
        "true_class = y_test[image_id, 0]\n",
        "prior_confidence = model.predict_one(x_test[image_id])[true_class]\n",
        "success = attack_success(pixel, x_test[image_id], true_class, model, verbose=True)\n",
        "\n",
        "print('Prior confidence', prior_confidence)\n",
        "print('Attack success:', success == True)\n",
        "helper.plot_image(perturb_image(pixel, x_test[image_id])[0])"
      ],
      "execution_count": null,
      "outputs": []
    },
    {
      "cell_type": "code",
      "metadata": {
        "id": "7rlzqXpqSgrW"
      },
      "source": [
        "def attack(img_id, model, target=None, pixel_count=1, \n",
        "           maxiter=75, popsize=400, verbose=False):\n",
        "    # Change the target class based on whether this is a targeted attack or not\n",
        "    targeted_attack = target is not None\n",
        "    target_class = target if targeted_attack else y_test[img_id, 0]\n",
        "    \n",
        "    # Define bounds for a flat vector of x,y,r,g,b values\n",
        "    # For more pixels, repeat this layout\n",
        "    bounds = [(0,32), (0,32), (0,256), (0,256), (0,256)] * pixel_count\n",
        "    \n",
        "    # Population multiplier, in terms of the size of the perturbation vector x\n",
        "    popmul = max(1, popsize // len(bounds))\n",
        "    \n",
        "    # Format the predict/callback functions for the differential evolution algorithm\n",
        "    def predict_fn(xs):\n",
        "        return predict_classes(xs, x_test[img_id], target_class, \n",
        "                               model, target is None)\n",
        "    \n",
        "    def callback_fn(x, convergence):\n",
        "        return attack_success(x, x_test[img_id], target_class, \n",
        "                              model, targeted_attack, verbose)\n",
        "    \n",
        "    # Call Scipy's Implementation of Differential Evolution\n",
        "    attack_result = differential_evolution(\n",
        "        predict_fn, bounds, maxiter=maxiter, popsize=popmul,\n",
        "        recombination=1, atol=-1, callback=callback_fn, polish=False)\n",
        "\n",
        "    # Calculate some useful statistics to return from this function\n",
        "    attack_image = perturb_image(attack_result.x, x_test[img_id])[0]\n",
        "    prior_probs = model.predict_one(x_test[img_id])\n",
        "    predicted_probs = model.predict_one(attack_image)\n",
        "    predicted_class = np.argmax(predicted_probs)\n",
        "    actual_class = y_test[img_id, 0]\n",
        "    success = predicted_class != actual_class\n",
        "    cdiff = prior_probs[actual_class] - predicted_probs[actual_class]\n",
        "\n",
        "    # Show the best attempt at a solution (successful or not)\n",
        "    helper.plot_image(attack_image, actual_class, class_names, predicted_class)\n",
        "\n",
        "    return [model.name, pixel_count, img_id, actual_class, predicted_class, success, cdiff, prior_probs, predicted_probs, attack_result.x]"
      ],
      "execution_count": null,
      "outputs": []
    },
    {
      "cell_type": "markdown",
      "metadata": {
        "id": "YmDYdudkaekq"
      },
      "source": [
        "#### Untargeted Attack"
      ]
    },
    {
      "cell_type": "code",
      "metadata": {
        "scrolled": false,
        "id": "tK5EKVJeaekr"
      },
      "source": [
        "image_id = 102\n",
        "pixels = 1 # Number of pixels to attack\n",
        "model = resnet\n",
        "\n",
        "_ = attack(image_id, model, pixel_count=pixels, verbose=True)"
      ],
      "execution_count": null,
      "outputs": []
    }
  ]
}